{
  "nbformat": 4,
  "nbformat_minor": 0,
  "metadata": {
    "colab": {
      "name": "DesafioDevPro.ipynb",
      "provenance": [],
      "collapsed_sections": [],
      "authorship_tag": "ABX9TyN8nSRApeVGYaR239Ki47kV",
      "include_colab_link": true
    },
    "kernelspec": {
      "name": "python3",
      "display_name": "Python 3"
    },
    "language_info": {
      "name": "python"
    }
  },
  "cells": [
    {
      "cell_type": "markdown",
      "metadata": {
        "id": "view-in-github",
        "colab_type": "text"
      },
      "source": [
        "<a href=\"https://colab.research.google.com/github/felsb3/exercicios/blob/main/DesafioDevPro.ipynb\" target=\"_parent\"><img src=\"https://colab.research.google.com/assets/colab-badge.svg\" alt=\"Open In Colab\"/></a>"
      ]
    },
    {
      "cell_type": "markdown",
      "metadata": {
        "id": "Do3zMaIbX3ms"
      },
      "source": [
        "# Desafio Devpro"
      ]
    },
    {
      "cell_type": "markdown",
      "metadata": {
        "id": "JoOuzC51YHRU"
      },
      "source": [
        "Nesse notebook vamos resolver vários exercicios da lista da [Python Brasil](https://wiki.python.org.br/ListaDeExercicios)!"
      ]
    },
    {
      "cell_type": "markdown",
      "metadata": {
        "id": "lt8TqwluZmQL"
      },
      "source": [
        "# [Estrutura Sequencial](https://wiki.python.org.br/EstruturaSequencial)"
      ]
    },
    {
      "cell_type": "markdown",
      "metadata": {
        "id": "ms8HJjMHSg4T"
      },
      "source": [
        "Exercicio 1"
      ]
    },
    {
      "cell_type": "code",
      "metadata": {
        "id": "stiLjsvsZ4Ck",
        "colab": {
          "base_uri": "https://localhost:8080/"
        },
        "outputId": "24e87399-cb77-4023-a6f7-db3adabbe39d"
      },
      "source": [
        "print ('Ola Mundo')\n",
        "# Faça um Programa que mostre a mensagem \"Alo mundo\" na tela."
      ],
      "execution_count": null,
      "outputs": [
        {
          "output_type": "stream",
          "text": [
            "Ola Mundo\n"
          ],
          "name": "stdout"
        }
      ]
    },
    {
      "cell_type": "markdown",
      "metadata": {
        "id": "R-iXUvesbJXH"
      },
      "source": [
        "Exercicio 2"
      ]
    },
    {
      "cell_type": "code",
      "metadata": {
        "id": "erJND7FkbML5",
        "colab": {
          "base_uri": "https://localhost:8080/"
        },
        "outputId": "3a26b522-37f0-41f4-94f4-e7f7e6e792fa"
      },
      "source": [
        "numero = input('digite um número: ')\n",
        "print(f'O número informado foi: {numero}')"
      ],
      "execution_count": null,
      "outputs": [
        {
          "output_type": "stream",
          "text": [
            "digite um número: 6\n",
            "O número informado foi: 6\n"
          ],
          "name": "stdout"
        }
      ]
    },
    {
      "cell_type": "markdown",
      "metadata": {
        "id": "r0trwZhkfQjt"
      },
      "source": [
        "Exercicio 3"
      ]
    },
    {
      "cell_type": "code",
      "metadata": {
        "id": "g1SiJl2pbc-n"
      },
      "source": [
        "numero_1 = int(input ('digite um número: '))\n",
        "numero_2 = int(input ('digite ontro número: '))\n",
        "soma = numero_1 + numero_2\n",
        "print (f'A soma dos dois números é {soma}')\n"
      ],
      "execution_count": null,
      "outputs": []
    },
    {
      "cell_type": "markdown",
      "metadata": {
        "id": "LF6s3x1k7dAv"
      },
      "source": [
        "Exercicio 4 - Faça um Programa que peça as 4 notas bimestrais e mostre a média."
      ]
    },
    {
      "cell_type": "code",
      "metadata": {
        "colab": {
          "base_uri": "https://localhost:8080/"
        },
        "id": "yHdwoAccTDro",
        "outputId": "a2d1ec8c-d150-46b0-92ec-76476220419f"
      },
      "source": [
        "nota_1= float(input('Digite sua primeira nota: '))\n",
        "nota_2= float(input('Digite sua segundo nota: '))\n",
        "nota_3= float(input('Digite sua terciro nota: '))\n",
        "nota_4= float(input('Digite sua quarta nota: '))\n",
        "meida = (nota_1 + nota_2 + nota_3 + nota_4)/4\n",
        "print (f'Sua média foi: {meida}')"
      ],
      "execution_count": null,
      "outputs": [
        {
          "output_type": "stream",
          "text": [
            "Digite sua primeira nota: 5\n",
            "Digite sua segundo nota: 6\n",
            "Digite sua terciro nota: 8\n",
            "Digite sua quarta nota: 5.4\n",
            "Sua média foi: 6.1\n"
          ],
          "name": "stdout"
        }
      ]
    },
    {
      "cell_type": "markdown",
      "metadata": {
        "id": "A7L5l5VKVlNd"
      },
      "source": [
        "Exercicio 5 -- Faça um Programa que converta metros para centímetros.\n"
      ]
    },
    {
      "cell_type": "code",
      "metadata": {
        "colab": {
          "base_uri": "https://localhost:8080/"
        },
        "id": "WuSBl4TZVq79",
        "outputId": "c1716040-e115-4eea-c20d-573a1a8bf805"
      },
      "source": [
        "tamanho_em_metros = float(input('Incisa um valor em metros: '))\n",
        "tamanho_em_centimetros = tamanho_em_metros * 100\n",
        "print (f'Seu valor é igual a {tamanho_em_centimetros} cm')\n",
        "print()\n",
        "\n",
        "c = float (input('Insira os centímetros a serem convertidos:  '))\n",
        "r = c / 100\n",
        "print (f'{c} cm, é equivalente a: {r} metros')"
      ],
      "execution_count": null,
      "outputs": [
        {
          "output_type": "stream",
          "text": [
            "Incisa um valor em metros: 400\n",
            "Seu valor é igual a 40000.0 cm\n",
            "\n",
            "Insira os centímetros a serem convertidos:  4000\n",
            "4000.0 cm, é equivalente a: 40.0 metros\n"
          ],
          "name": "stdout"
        }
      ]
    },
    {
      "cell_type": "markdown",
      "metadata": {
        "id": "4yQBZOuSiJqk"
      },
      "source": [
        "Exrcicio 6 -- Faça um Programa que peça o raio de um círculo, calcule e mostre sua área.  A =  π . r²"
      ]
    },
    {
      "cell_type": "code",
      "metadata": {
        "id": "cPLxazqWiQhc"
      },
      "source": [
        "import math\n",
        "r=float(input('Digite o raio do Circulo em metros:  '))\n",
        "a=math.pi*pow(r, 2)\n",
        "print (f'A área do circulo é {a} m²')\n"
      ],
      "execution_count": null,
      "outputs": []
    },
    {
      "cell_type": "markdown",
      "metadata": {
        "id": "GIwne66ctpGr"
      },
      "source": [
        "exercicio 9 -- Faça um Programa que peça a temperatura em graus Fahrenheit, transforme e mostre a temperatura em graus Celsius.\n",
        "C = 5 * ((F-32) / 9)."
      ]
    },
    {
      "cell_type": "code",
      "metadata": {
        "id": "HrIWaw2Yg6VR"
      },
      "source": [
        "F = float(input('Digite aqui a temperatura em Fahrenheit: '))\n",
        "Ce = 5 * ((F-32) / 9)\n",
        "print (f'{float(Ce)}')\n",
        "C = float(input('Digite aqui a temperatura em Celsius: '))\n",
        "prova = ((C/5)*9)+32\n",
        "print (f'{float(prova)}°')"
      ],
      "execution_count": null,
      "outputs": []
    },
    {
      "cell_type": "markdown",
      "metadata": {
        "id": "8bEhSflYpbEm"
      },
      "source": [
        "Exercicio 13 -- Tendo como dado de entrada a altura (h) de uma pessoa, construa um algoritmo que calcule seu peso ideal, utilizando as seguintes fórmulas:\n",
        "Para homens: (72.7*h) - 58\n",
        "Para mulheres: (62.1*h) - 44.7"
      ]
    },
    {
      "cell_type": "code",
      "metadata": {
        "id": "3uwhnKUkprOL"
      },
      "source": [
        "h = float(input('Favor informar sua altura em metros: '))\n",
        "sexo = input ('Digite aqui seu sexo \"M\" para masculino \"F\" para feminino: ').upper()\n",
        "if sexo == 'M':\n",
        "  peso_ideal=(72.7*h)-58\n",
        "  print(f' Para sexo Masculino seu peso ideal seria {peso_ideal} kg')\n",
        "elif sexo == \"F\":\n",
        "  peso_ideal=(62.1*h)-44.7\n",
        "  print(f'Para sexo Feminino seu peso ideal seria {peso_ideal} kg')\n",
        "else:\n",
        "  print('sexo invalido')\n",
        "print('Finalizou o programa')"
      ],
      "execution_count": null,
      "outputs": []
    },
    {
      "cell_type": "markdown",
      "metadata": {
        "id": "ObQ1EGTeh1-V"
      },
      "source": [
        "Exercicio 17"
      ]
    },
    {
      "cell_type": "code",
      "metadata": {
        "id": "OoqFS_-8fPZI",
        "colab": {
          "base_uri": "https://localhost:8080/"
        },
        "outputId": "ec1d7daa-6baa-4dac-e7e6-23e94cd48ffe"
      },
      "source": [
        "import math\n",
        "#while area_a_ser_pintada > 200:\n",
        "area_a_ser_pintada = int(input ('digite a área, em metros quadardos a ser pintada: ')) # area em metros quadrados\n",
        "#print (area_a_ser_pintada)\n",
        "#  area_a_ser_pintada += 1\n",
        "area_com_folga = area_a_ser_pintada * 1.1\n",
        "metros_por_litro = 6\n",
        "litros_a_serem_usados = area_com_folga / metros_por_litro\n",
        "litros_por_lata = 18\n",
        "numero_de_latas = math.ceil(litros_a_serem_usados / litros_por_lata)\n",
        "valor_com_apenas_latas = numero_de_latas * 80\n",
        "print (f'Você deverá usar {numero_de_latas} latas de 18 litros, no valor de R$ {valor_com_apenas_latas}')\n",
        "\n",
        "litros_por_galao = 3.6\n",
        "nunero_de_galoes = math.ceil(litros_a_serem_usados / litros_por_galao)\n",
        "valor_com_apenas_galoes = nunero_de_galoes * 25\n",
        "print (f'Você deverá usar {nunero_de_galoes} galões de 3.6 litros no valor de R$ {valor_com_apenas_galoes}')\n",
        "\n",
        "# compra de tintas otimiada por valor\n",
        "numero_de_latas_otimizado = math.floor(litros_a_serem_usados / litros_por_lata)\n",
        "valor_de_latas_otimizado = numero_de_latas_otimizado * 80\n",
        "litros_faltantes = litros_a_serem_usados % litros_por_lata\n",
        "nunero_de_galoes_otimizado = math.ceil(litros_faltantes / litros_por_galao)\n",
        "valor_com_galoes_otimizado = nunero_de_galoes * 25\n",
        "\n",
        "valor_total = valor_de_latas_otimizado + valor_com_galoes_otimizado\n",
        "\n",
        "print (f'Você deverá usar {numero_de_latas_otimizado} latas de 18 litros {nunero_de_galoes_otimizado} galões de 3.6 litros, no valor de R$ {valor_total}')\n",
        "print ('####################################################################')\n",
        "if valor_com_apenas_latas < valor_com_apenas_galoes and valor_com_apenas_latas <= valor_total:\n",
        "  print (f'Você deverá usar {numero_de_latas} latas de 18 litros, no valor de R$ {valor_com_apenas_latas}')\n",
        "\n",
        "if valor_com_apenas_galoes <= valor_total and valor_com_apenas_galoes < valor_com_apenas_latas:\n",
        "  print (f'Você deverá usar {nunero_de_galoes} galões de 3.6 litros no valor de R$ {valor_com_apenas_galoes}')\n",
        "\n",
        "if valor_total < valor_com_apenas_galoes and valor_total < valor_com_apenas_latas:\n",
        "  print (f'Você deverá usar {numero_de_latas} latas de 18 litros {nunero_de_galoes} galões de 3.6 litros, no valor de R$ {valor_total}')\n",
        "print ('############### compra de tintas otimiada por valor ###############')"
      ],
      "execution_count": null,
      "outputs": [
        {
          "output_type": "stream",
          "text": [
            "digite a área, em metros quadardos a ser pintada: 200\n",
            "Você deverá usar 3 latas de 18 litros, no valor de R$ 240\n",
            "Você deverá usar 11 galões de 3.6 litros no valor de R$ 275\n",
            "Você deverá usar 2 latas de 18 litros 1 galões de 3.6 litros, no valor de R$ 435\n",
            "####################################################################\n",
            "Você deverá usar 3 latas de 18 litros, no valor de R$ 240\n",
            "############### compra de tintas otimiada por valor ###############\n"
          ],
          "name": "stdout"
        }
      ]
    },
    {
      "cell_type": "markdown",
      "metadata": {
        "id": "GWeJ0dMN44DI"
      },
      "source": [
        "# Estrutura de Decisão"
      ]
    },
    {
      "cell_type": "markdown",
      "metadata": {
        "id": "hYD7BKok5Cer"
      },
      "source": [
        "Exercicio 3"
      ]
    },
    {
      "cell_type": "code",
      "metadata": {
        "id": "7B_aV0U55AOV"
      },
      "source": [
        "True, False\n",
        "print (5 < 6)\n"
      ],
      "execution_count": null,
      "outputs": []
    },
    {
      "cell_type": "code",
      "metadata": {
        "id": "AiorsJeO5_ht"
      },
      "source": [
        "sexo = input ('Digite aqui seu sexo \"M\" para masculino \"F\" para feminino e \"I\" para não definir: ').upper()\n",
        "if sexo == 'M':\n",
        "  print('Masculino')\n",
        "elif sexo == \"F\":\n",
        "  print('Feminino')\n",
        "elif sexo == \"I\":\n",
        "  print('Indefinido')\n",
        "else:\n",
        "  print('sexo invalido')\n",
        "print('Finalizou o programa')"
      ],
      "execution_count": null,
      "outputs": []
    },
    {
      "cell_type": "code",
      "metadata": {
        "id": "jXQkzt6E7P8A"
      },
      "source": [
        "nota_1 = float(input('digite sua nota: '))\n",
        "nota_2 = float(input('digite sua nota: '))\n",
        "media = (nota_1 + nota_2) / 2\n",
        "print (f'Sua média foi: {media}')\n",
        "if media >= 10:\n",
        "  print ('Aprovado com distinção')\n",
        "elif media >= 7:\n",
        "  print ('Aprovado')\n",
        "else:\n",
        "  print ('Reprovado')"
      ],
      "execution_count": null,
      "outputs": []
    },
    {
      "cell_type": "code",
      "metadata": {
        "id": "2yoZDfjAQLiw"
      },
      "source": [
        "numero = int(input('digite um número: '))\n",
        "centenas_str = dezenas_str = unidades_str = ''\n",
        "\n",
        "centenas_int, numero = divmod(numero, 100)\n",
        "\n",
        "partes_numericas = 0\n",
        "\n",
        "if centenas_int == 1:\n",
        "  centenas_str = '1 centena' \n",
        "  partes_numericas += 1\n",
        "elif centenas_int > 1:\n",
        "  centenas_str = f'{centenas_int} centenas'\n",
        "  partes_numericas += 1\n",
        "\n",
        "dezenas_int, numero = divmod(numero, 10)\n",
        "\n",
        "if dezenas_int == 1:\n",
        "  dezenas_str = '1 dezena'\n",
        "  partes_numericas += 1\n",
        "elif dezenas_int > 1:\n",
        "  dezenas_str = f'{dezenas_int} dezenas'\n",
        "  partes_numericas += 1\n",
        "\n",
        "if numero == 1:\n",
        "  unidades_str = '1 unidade' \n",
        "  partes_numericas += 1\n",
        "elif numero > 1:\n",
        "  unidades_str = f'{numero} unidades'\n",
        "  partes_numericas += 1\n",
        "\n",
        "if partes_numericas == 0:\n",
        "  print ('Número 0 não possui centenas, dezenas ou unidades')\n",
        "elif partes_numericas == 1:\n",
        "  print (centenas_str + dezenas_str + unidades_str)\n",
        "elif partes_numericas == 3:\n",
        "  print (f'{centenas_str}, {dezenas_str} e {unidades_str}')\n",
        "elif partes_numericas == 2:\n",
        "  if centenas_str != '':\n",
        "    segunda_parte = dezenas_str + unidades_str\n",
        "    print (f'{centenas_str} e {segunda_parte}')\n",
        "  else:\n",
        "    print (f'{dezenas_str} e {unidades_str}')\n"
      ],
      "execution_count": null,
      "outputs": []
    },
    {
      "cell_type": "code",
      "metadata": {
        "id": "ElPM3H3sFL2q"
      },
      "source": [
        ""
      ],
      "execution_count": null,
      "outputs": []
    },
    {
      "cell_type": "code",
      "metadata": {
        "colab": {
          "base_uri": "https://localhost:8080/"
        },
        "id": "cNC2dYE3yTf3",
        "outputId": "d094a1a7-04f3-4a9c-a5ea-493d38950061"
      },
      "source": [
        "saldo=int(input())\n",
        "taxa = 1.00347\n",
        "anos=0\n",
        "while saldo < 1000:\n",
        "  #print (anos)\n",
        "  #print (saldo)\n",
        "  anos += 1\n",
        "  saldo *= taxa\n",
        "\n",
        "print (anos)\n",
        "print (saldo)"
      ],
      "execution_count": null,
      "outputs": [
        {
          "output_type": "stream",
          "text": [
            "900\n",
            "31\n",
            "1002.025329232381\n"
          ],
          "name": "stdout"
        }
      ]
    },
    {
      "cell_type": "markdown",
      "metadata": {
        "id": "2jme9Fs3ilL2"
      },
      "source": [
        "\n",
        "Faça um Programa que peça a temperatura em graus Fahrenheit, transforme e mostre a temperatura em graus Celsius.\n",
        "C = 5 * ((F-32) / 9).\n",
        "[acessar o site](https://wiki.python.org.br/EstruturaSequencial)\n",
        "---\n",
        "\n"
      ]
    },
    {
      "cell_type": "code",
      "metadata": {
        "colab": {
          "base_uri": "https://localhost:8080/"
        },
        "id": "xcdlsjUiJIN2",
        "outputId": "7d32d4ac-1fcd-475b-9af4-2ceb71a082e1"
      },
      "source": [
        "while True:\n",
        "  try:\n",
        "    numero = int(input('informe um numero de 0 a 10: '))\n",
        "  except ValueError:\n",
        "    print ('fornessa um valor inteiro')\n",
        "  else:\n",
        "    if 0<= numero <= 10:\n",
        "      print (f'numero informado {numero}')\n",
        "      break\n",
        "    else:\n",
        "      print ('o numero deve estar entre 0 e 10')"
      ],
      "execution_count": null,
      "outputs": [
        {
          "output_type": "stream",
          "text": [
            "informe um numero de 0 a 10: ;\n",
            "fornessa um valor inteiro\n",
            "informe um numero de 0 a 10: l\n",
            "fornessa um valor inteiro\n",
            "informe um numero de 0 a 10: -5\n",
            "o numero deve estar entre 0 e 10\n",
            "informe um numero de 0 a 10: q\n",
            "fornessa um valor inteiro\n",
            "informe um numero de 0 a 10: w\n",
            "fornessa um valor inteiro\n",
            "informe um numero de 0 a 10: 9\n",
            "numero informado 9\n"
          ],
          "name": "stdout"
        }
      ]
    },
    {
      "cell_type": "code",
      "metadata": {
        "id": "ZFOcK7X-UTtm"
      },
      "source": [
        "tabuada = int(input('Tabuada de: '))\n",
        "for i in range(1, 11, 1):\n",
        "  x=tabuada*i\n",
        "  print (f'{tabuada} x {i} = {x}')"
      ],
      "execution_count": null,
      "outputs": []
    },
    {
      "cell_type": "code",
      "metadata": {
        "colab": {
          "base_uri": "https://localhost:8080/"
        },
        "id": "g73E4x8iETVv",
        "outputId": "e1ad0f31-8a1e-4d17-fbae-c7f3584563f9"
      },
      "source": [
        "maximo = float(input('Digite um número: '))\n",
        "\n",
        "for _ in range(5):\n",
        "  maximo += float(input('Digite um número: '))\n",
        "  print (f'Sua soma é: {maximo}')\n",
        "  print (f'E sua média é: {maximo/2}')"
      ],
      "execution_count": null,
      "outputs": [
        {
          "output_type": "stream",
          "text": [
            "Digite um número: 2\n",
            "Digite um número: 2\n",
            "Sua soma é: 4.0\n",
            "E sua média é: 2.0\n",
            "Digite um número: 7\n",
            "Sua soma é: 11.0\n",
            "E sua média é: 5.5\n",
            "Digite um número: 6\n",
            "Sua soma é: 17.0\n",
            "E sua média é: 8.5\n",
            "Digite um número: 8.5\n",
            "Sua soma é: 25.5\n",
            "E sua média é: 12.75\n",
            "Digite um número: 4.5\n",
            "Sua soma é: 30.0\n",
            "E sua média é: 15.0\n"
          ],
          "name": "stdout"
        }
      ]
    },
    {
      "cell_type": "code",
      "metadata": {
        "id": "oygC-jll2il3",
        "colab": {
          "base_uri": "https://localhost:8080/"
        },
        "outputId": "e67d616b-46f8-40d3-ce79-867bd95859d5"
      },
      "source": [
        "x = \"awesome\"\n",
        "\n",
        "def myfunc():\n",
        "  global x\n",
        "  x = \"fantastic\"\n",
        "  print(x)\n",
        "print ('###')\n",
        "print (myfunc())\n",
        "print ('###')\n",
        "myfunc()\n",
        "print ('###')\n",
        "print(\"Python is \" + x)\n",
        "print ('###')\n",
        "print (x)"
      ],
      "execution_count": null,
      "outputs": [
        {
          "output_type": "stream",
          "text": [
            "###\n",
            "fantastic\n",
            "None\n",
            "###\n",
            "fantastic\n",
            "###\n",
            "Python is fantastic\n",
            "###\n",
            "fantastic\n"
          ],
          "name": "stdout"
        }
      ]
    },
    {
      "cell_type": "code",
      "metadata": {
        "id": "-ZL2y1-Y8W_V"
      },
      "source": [
        "def enes(n):\n",
        "    for c in range(1, n + 1):\n",
        "        cont = 1\n",
        "        while True:\n",
        "            print(c, end=' ')\n",
        "            if cont == c:\n",
        "                break\n",
        "            cont += 1\n",
        "        print()\n",
        "        \n",
        "        \n",
        "n = int(input('Digite um número: '))\n",
        "enes(n)"
      ],
      "execution_count": null,
      "outputs": []
    },
    {
      "cell_type": "code",
      "metadata": {
        "colab": {
          "base_uri": "https://localhost:8080/"
        },
        "id": "7qjnLzCsEIgT",
        "outputId": "a8d004d3-c81c-490a-dede-ed1f1a016772"
      },
      "source": [
        "def exercicio_1(n):\n",
        "    for i in range(n):\n",
        "        i += 1\n",
        "        print(str(i) * i)\n",
        "\n",
        "\n",
        "n = int(input('Digite um número: '))\n",
        "exercicio_1(n)"
      ],
      "execution_count": null,
      "outputs": [
        {
          "output_type": "stream",
          "text": [
            "Digite um número: 5\n",
            "1\n",
            "22\n",
            "333\n",
            "4444\n",
            "55555\n"
          ],
          "name": "stdout"
        }
      ]
    },
    {
      "cell_type": "code",
      "metadata": {
        "colab": {
          "base_uri": "https://localhost:8080/",
          "height": 520
        },
        "id": "a9EGUIDuFKfL",
        "outputId": "1c51ce8c-a7ec-41dd-c273-5de5fe589e4b"
      },
      "source": [
        "def converta(h, m):\n",
        "    if 0 < h <= 12 and 0 < m < 60:\n",
        "        print(f'{h}:{m} AM')\n",
        "    elif 12 < h < 24 and 0 < m < 60:\n",
        "        print(f'{h - 12}:{m} PM')\n",
        "    else:\n",
        "        print('Valor inválido')\n",
        "\n",
        "\n",
        "while True:\n",
        "    h = int(input('Hora: '))\n",
        "    if h == 999: break\n",
        "    m = int(input('Minuto: '))\n",
        "    converta(h,m)\n",
        "    print('='*12)"
      ],
      "execution_count": null,
      "outputs": [
        {
          "output_type": "stream",
          "text": [
            "Hora: 13\n",
            "Minuto: 45\n",
            "1:45 PM\n",
            "============\n",
            "Hora: 14\n",
            "Minuto: 26\n",
            "2:26 PM\n",
            "============\n",
            "Hora: 8\n",
            "Minuto: 12\n",
            "8:12 AM\n",
            "============\n",
            "Hora: 6\n",
            "Minuto: 8\n",
            "6:8 AM\n",
            "============\n",
            "Hora: \n"
          ],
          "name": "stdout"
        },
        {
          "output_type": "error",
          "ename": "ValueError",
          "evalue": "ignored",
          "traceback": [
            "\u001b[0;31m---------------------------------------------------------------------------\u001b[0m",
            "\u001b[0;31mValueError\u001b[0m                                Traceback (most recent call last)",
            "\u001b[0;32m<ipython-input-6-3c86d3bce701>\u001b[0m in \u001b[0;36m<module>\u001b[0;34m()\u001b[0m\n\u001b[1;32m      9\u001b[0m \u001b[0;34m\u001b[0m\u001b[0m\n\u001b[1;32m     10\u001b[0m \u001b[0;32mwhile\u001b[0m \u001b[0;32mTrue\u001b[0m\u001b[0;34m:\u001b[0m\u001b[0;34m\u001b[0m\u001b[0;34m\u001b[0m\u001b[0m\n\u001b[0;32m---> 11\u001b[0;31m     \u001b[0mh\u001b[0m \u001b[0;34m=\u001b[0m \u001b[0mint\u001b[0m\u001b[0;34m(\u001b[0m\u001b[0minput\u001b[0m\u001b[0;34m(\u001b[0m\u001b[0;34m'Hora: '\u001b[0m\u001b[0;34m)\u001b[0m\u001b[0;34m)\u001b[0m\u001b[0;34m\u001b[0m\u001b[0;34m\u001b[0m\u001b[0m\n\u001b[0m\u001b[1;32m     12\u001b[0m     \u001b[0;32mif\u001b[0m \u001b[0mh\u001b[0m \u001b[0;34m==\u001b[0m \u001b[0;36m999\u001b[0m\u001b[0;34m:\u001b[0m \u001b[0;32mbreak\u001b[0m\u001b[0;34m\u001b[0m\u001b[0;34m\u001b[0m\u001b[0m\n\u001b[1;32m     13\u001b[0m     \u001b[0mm\u001b[0m \u001b[0;34m=\u001b[0m \u001b[0mint\u001b[0m\u001b[0;34m(\u001b[0m\u001b[0minput\u001b[0m\u001b[0;34m(\u001b[0m\u001b[0;34m'Minuto: '\u001b[0m\u001b[0;34m)\u001b[0m\u001b[0;34m)\u001b[0m\u001b[0;34m\u001b[0m\u001b[0;34m\u001b[0m\u001b[0m\n",
            "\u001b[0;31mValueError\u001b[0m: invalid literal for int() with base 10: ''"
          ]
        }
      ]
    },
    {
      "cell_type": "code",
      "metadata": {
        "id": "FSYQAr4TFn4V"
      },
      "source": [
        "def valorPagamento(p, d):\n",
        "    return p*1.03 + 0.001*d\n",
        "\n",
        "c = t = 0\n",
        "\n",
        "while True:\n",
        "    p = float(input('Valor da prestação: '))\n",
        "    if p == 0:\n",
        "        print(f'Total: {t}. Quantidade: {c} ')\n",
        "        break\n",
        "    d = int(input('Dia em atraso: '))\n",
        "    print(f'Valor a ser pago: {valorPagamento(p, d) :.2f}')\n",
        "    print('-+-'*10)\n",
        "    c += 1\n",
        "    t += valorPagamento(p, d)"
      ],
      "execution_count": null,
      "outputs": []
    },
    {
      "cell_type": "code",
      "metadata": {
        "colab": {
          "base_uri": "https://localhost:8080/"
        },
        "id": "SkFSFkp3GLcD",
        "outputId": "6053b8fd-d139-4b6b-8bff-4f92012e4f06"
      },
      "source": [
        "def ret(l, a):\n",
        "    if l > 20:\n",
        "        l = 20\n",
        "    if a > 20:\n",
        "        a = 20\n",
        "    print('-o-'*l)\n",
        "    c =0\n",
        "    while c < a:\n",
        "        z = '|'\n",
        "        print(f'{z}{z:>{(l*3 - 1)}}')\n",
        "        c += 1\n",
        "    print('-o-' * l)\n",
        "\n",
        "\n",
        "l = int(input('Digite a largura: '))\n",
        "a = int(input('Digite a altura: '))\n",
        "ret(l, a)"
      ],
      "execution_count": null,
      "outputs": [
        {
          "output_type": "stream",
          "text": [
            "Digite a largura: 200\n",
            "Digite a altura: 200\n",
            "-o--o--o--o--o--o--o--o--o--o--o--o--o--o--o--o--o--o--o--o-\n",
            "|                                                          |\n",
            "|                                                          |\n",
            "|                                                          |\n",
            "|                                                          |\n",
            "|                                                          |\n",
            "|                                                          |\n",
            "|                                                          |\n",
            "|                                                          |\n",
            "|                                                          |\n",
            "|                                                          |\n",
            "|                                                          |\n",
            "|                                                          |\n",
            "|                                                          |\n",
            "|                                                          |\n",
            "|                                                          |\n",
            "|                                                          |\n",
            "|                                                          |\n",
            "|                                                          |\n",
            "|                                                          |\n",
            "|                                                          |\n",
            "-o--o--o--o--o--o--o--o--o--o--o--o--o--o--o--o--o--o--o--o-\n"
          ],
          "name": "stdout"
        }
      ]
    },
    {
      "cell_type": "code",
      "metadata": {
        "colab": {
          "base_uri": "https://localhost:8080/"
        },
        "id": "LhvCNE2fG_sX",
        "outputId": "a30e3f0c-e1b5-4677-979f-d172723e40ca"
      },
      "source": [
        "import random\n",
        "a1 = str(input('Primeiro aluno: '))\n",
        "a2 = str(input('Segundo aluno: '))\n",
        "a3 = str(input('Terceiro aluno: '))\n",
        "a4 = str(input('Quarto aluno: '))\n",
        "print('Sorteio: {}'. format(random.choice([a1, a2, a3, a4])))\n",
        "print('\\033[0;30;41mOlá, Mundo\\033[m')\n"
      ],
      "execution_count": null,
      "outputs": [
        {
          "output_type": "stream",
          "text": [
            "Primeiro aluno: 1\n",
            "Segundo aluno: 2\n",
            "Terceiro aluno: 3\n",
            "Quarto aluno: 4\n",
            "Sorteio: 1\n",
            "\u001b[0;30;41mOlá, Mundo\u001b[m\n"
          ],
          "name": "stdout"
        }
      ]
    }
  ]
}